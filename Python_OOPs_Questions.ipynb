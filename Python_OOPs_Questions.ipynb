{
  "nbformat": 4,
  "nbformat_minor": 0,
  "metadata": {
    "colab": {
      "provenance": []
    },
    "kernelspec": {
      "name": "python3",
      "display_name": "Python 3"
    },
    "language_info": {
      "name": "python"
    }
  },
  "cells": [
    {
      "cell_type": "markdown",
      "source": [
        "1. What is Object-Oriented Programming (OOP)?\n",
        "\n",
        "* Object-oriented programming (OOP) is a programming paradigm that uses \"objects\" to design applications and computer programs.\n",
        "\n",
        "2. What is a class in OOP?\n",
        "\n",
        "* A class is like a blueprint or template for creating objects.\n",
        "\n",
        "3. What is an object in OOP?\n",
        "\n",
        "* An oject is a real thing creating using class. An object is an instance of cladd. its a collection of attributes and methods.\n",
        "\n",
        "4. What is the difference between abstraction and encapsulation?\n",
        "\n",
        "*Abstraction focuses on hiding the complex implementation details and exposing only the essential features or functionalities of an object or system.\n",
        "\n",
        "* Encapsulation, on the other hand, focuses on bundling data and the methods that operate on that data within a single unit, typically a class, and restricting direct access to the internal state.\n",
        "\n",
        "5. What are dunder methods in Python?\n",
        "\n",
        "* Dunder method is also known as special method. Dunder method start from double underscores so dunder method in python that starts and end with double underscores.\n",
        "\n",
        "6. Explain the concept of inheritance in OOP.\n",
        "\n",
        "* In Object-Oriented Programming (OOP), inheritance is a fundamental concept that enables a new class, known as the derived class (or subclass/child class), to acquire the properties (attributes) and behaviors (methods) of an existing class, known as the base class (or superclass/parent class).\n",
        "\n",
        "7. What is polymorphism in OOP?\n",
        "\n",
        "* It allows you to use same methods or operation on different types of object and  behaves differently depending on objects.\n",
        "\n",
        "8. How is encapsulation achieved in Python?\n",
        "\n",
        "* Encapsulation binding that attributes and methods that operate onthe data into a single unit.\n",
        "* It also helps in restricting direct access to some components of an object - this is called data hiding.\n",
        "* Means hiring the internal details of an object and only allows access it through public methods.\n",
        "\n",
        "9.  What is a constructor in Python?\n",
        "\n",
        "* Constructor is a special method used to create and initialize an object of class.\n",
        "\n",
        "10. What are class and static methods in Python?\n",
        "\n",
        "* A class method is defined using the @classmethod decorator above the method definition.\n",
        "* A static method is defined using the @staticmethod decorator above the method definition.\n",
        "\n",
        "11. What is method overloading in Python?\n",
        "\n",
        "* Method overloading, in the context of object-oriented programming, refers to the ability to define multiple methods within the same class that share the same name but have different parameters (either in number or type). This allows a single method name to perform different actions based on the arguments it receives.\n",
        "\n",
        "12. What is method overriding in OOP?\n",
        "\n",
        "* Method overrididng is when a subclass(class) defines a methods with same name as method in its parent to change or extent its behaviour.\n",
        "\n",
        "13. What is a property decorator in Python?\n",
        "\n",
        "* The @property decorator in Python is a built-in decorator that allows methods within a class to be accessed like attributes. It provides a \"Pythonic\" way to manage access to class attributes by defining getter, setter, and deleter methods, while maintaining a clean and intuitive attribute-like access syntax.\n",
        "\n",
        "14. Why is polymorphism important in OOP?\n",
        "\n",
        "* It allows you to use same methods or operations on different types of objects and behaves differently depending on objects.\n",
        "\n",
        "15. What is an abstract class in Python?\n",
        "\n",
        "* An abstract class in Python is a class that cannot be instantiated directly and is designed to serve as a blueprint or template for other classes. It defines a common interface that subclasses must adhere to by including one or more abstract methods.\n",
        "\n",
        "16. What are the advantages of OOP?\n",
        "\n",
        "* Object-Oriented Programming (OOP) offers several advantages, including improved code organization, reusability, flexibility, and maintainability. These benefits stem from key OOP concepts like encapsulation, inheritance, and polymorphism.\n",
        "\n",
        "17. What is the difference between a class variable and an instance variable?\n",
        "\n",
        "* Class Method : i. Class methods are used when you want to work with the class itself (not specific object).\n",
        "* ii. You use @classmethod and cls instead of self.\n",
        "* iii. It can access class variables, not object specififc data.\n",
        "\n",
        "* Instance method : i. It is used when you want to work with object data.\n",
        "* ii. Here you need self in this method.\n",
        "* iii. It can access both instance variable and class variables.\n",
        "\n",
        "18. What is multiple inheritance in Python?\n",
        "\n",
        "* Multiple inheritance in Python is a feature of object-oriented programming that allows a class to inherit attributes and methods from more than one parent (or base) class. This means a single child class can combine the functionalities and characteristics of several distinct parent classes.\n",
        "\n",
        "19. Explain the purpose of ‘’__str__’ and ‘__repr__’ ‘ methods in Python?\n",
        "\n",
        "* In Python, __str__ and __repr__ are special methods (also known as \"dunder methods\") used to define how an object is represented as a string. They serve different purposes and are intended for different audiences.\n",
        "* __str__ is meant to provide a user-friendly, readable representation of an object. __repr__ is intended for developers and should return an unambiguous representation of the object's state.\n",
        "\n",
        "20. What is the significance of the ‘super()’ function in Python?\n",
        "\n",
        "* The super function in python is used to call methods from parent class inside a child class.\n",
        "* It is especially useful in inheritance when you want to access parent class method.\n",
        "* Avoid code repeating.\n",
        "* Support method overriding.\n",
        "\n",
        "21. What is the significance of the __del__ method in Python?\n",
        "\n",
        "* The __del__ method in Python serves as a destructor. Its significance lies in providing a mechanism to define cleanup actions that should be performed when an object is about to be destroyed, typically during garbage collection.\n",
        "\n",
        "22. What is the difference between @staticmethod and @classmethod in Python?\n",
        "\n",
        "* In Python, both class methods and static methods are defined within a class but differ in their access to class and instance data and their primary use cases.\n",
        "* i. Class method Definition:\n",
        "Defined using the @classmethod decorator.\n",
        "* i. Static method Definition: Defined using the @staticmethod decorator.\n",
        "\n",
        "* ii. Class Methods: First Argument: Automatically receive the class itself as their first argument, conventionally named cls..\n",
        "* ii. Static Methods: First Argument: Do not receive any special first argument (neither self nor cls).\n",
        "\n",
        "23. How does polymorphism work in Python with inheritance?\n",
        "\n",
        "* Polymorphism in Python, particularly in conjunction with inheritance, allows objects of different classes to be treated as objects of a common type. This is achieved primarily through method overriding.\n",
        "\n",
        "24. What is method chaining in Python OOP?\n",
        "\n",
        "*  Method chaining is a powerful technique in Python programming that allows us to call multiple methods on an object in a single, continuous line of code.\n",
        "\n",
        "25. What is the purpose of the __call__ method in Python?\n",
        "\n",
        "* The __call__ method in Python serves the purpose of making instances of a class callable, meaning they can be invoked as if they were functions. When an object with a defined __call__ method is called using parentheses (e.g., obj(), obj(arg1, arg2)), the __call__ method of that object is automatically executed."
      ],
      "metadata": {
        "id": "9M7SbsOFg10G"
      }
    },
    {
      "cell_type": "markdown",
      "source": [
        "#**Practical Questions**"
      ],
      "metadata": {
        "id": "atT06Fx_WW7P"
      }
    },
    {
      "cell_type": "code",
      "source": [
        "#1.  Create a parent class Animal with a method speak() that prints a generic message. Create a child class Dog that overrides the speak() method to print \"Bark!\".\n",
        "\n",
        "class Animal:\n",
        "    def speak(self):\n",
        "        \"\"\"Prints a generic message representing an animal's sound.\"\"\"\n",
        "        print(\"Some generic animal sound.\")\n",
        "\n",
        "class Dog(Animal):\n",
        "    def speak(self):\n",
        "        \"\"\"Overrides the speak method to print 'Bark!' for a Dog.\"\"\"\n",
        "        print(\"Bark!\")\n",
        "\n",
        "\n"
      ],
      "metadata": {
        "id": "k81ZDPWxF70l"
      },
      "execution_count": 49,
      "outputs": []
    },
    {
      "cell_type": "code",
      "source": [
        "\n",
        "animal = Animal()\n",
        "animal.speak()\n",
        "\n",
        "dog = Dog()\n",
        "dog.speak()"
      ],
      "metadata": {
        "colab": {
          "base_uri": "https://localhost:8080/"
        },
        "id": "RVZXLmGphcyY",
        "outputId": "96bb12bd-b7fa-4f74-8506-71830b2ddc64"
      },
      "execution_count": 50,
      "outputs": [
        {
          "output_type": "stream",
          "name": "stdout",
          "text": [
            "Some generic animal sound.\n",
            "Bark!\n"
          ]
        }
      ]
    },
    {
      "cell_type": "code",
      "source": [
        "#2.  Write a program to create an abstract class Shape with a method area(). Derive classes Circle and Rectangle from it and implement the area() method in both.\n",
        "\n",
        "import abc\n",
        "\n",
        "class Shape(abc.ABC):\n",
        "    \"\"\"\n",
        "    Abstract base class for shapes.\n",
        "    \"\"\"\n",
        "    @abc.abstractmethod\n",
        "    def area(self):\n",
        "        \"\"\"\n",
        "        Abstract method to calculate the area of the shape.\n",
        "        This method must be implemented by concrete subclasses.\n",
        "        \"\"\"\n",
        "        pass\n",
        "\n",
        "class Circle(Shape):\n",
        "    \"\"\"\n",
        "    Concrete class representing a circle, derived from Shape.\n",
        "    \"\"\"\n",
        "    def __init__(self, radius):\n",
        "        \"\"\"\n",
        "        Initializes a Circle object with a given radius.\n",
        "        \"\"\"\n",
        "        if radius <= 0:\n",
        "            raise ValueError(\"Radius must be positive.\")\n",
        "        self.radius = radius\n",
        "\n",
        "    def area(self):\n",
        "        \"\"\"\n",
        "        Calculates and returns the area of the circle.\n",
        "        \"\"\"\n",
        "        return 3.14159 * self.radius ** 2\n",
        "\n",
        "class Rectangle(Shape):\n",
        "    \"\"\"\n",
        "    Concrete class representing a rectangle, derived from Shape.\n",
        "    \"\"\"\n",
        "    def __init__(self, length, width):\n",
        "        \"\"\"\n",
        "        Initializes a Rectangle object with given length and width.\n",
        "        \"\"\"\n",
        "        if length <= 0 or width <= 0:\n",
        "            raise ValueError(\"Length and width must be positive.\")\n",
        "        self.length = length\n",
        "        self.width = width\n",
        "\n",
        "    def area(self):\n",
        "        \"\"\"\n",
        "        Calculates and returns the area of the rectangle.\n",
        "        \"\"\"\n",
        "        return self.length * self.width\n",
        "\n",
        "\n"
      ],
      "metadata": {
        "id": "qyRtpLBuUBO8"
      },
      "execution_count": 25,
      "outputs": []
    },
    {
      "cell_type": "code",
      "source": [
        "if __name__ == \"__main__\":\n",
        "    circle = Circle(5)\n",
        "    rectangle = Rectangle(4, 6)\n",
        "\n",
        "    print(f\"Area of Circle: {circle.area()}\")\n",
        "    print(f\"Area of Rectangle: {rectangle.area()}\")\n"
      ],
      "metadata": {
        "colab": {
          "base_uri": "https://localhost:8080/"
        },
        "id": "5OG_xoxKaEIP",
        "outputId": "b2902b17-ab8d-4956-ff5d-e120c9528349"
      },
      "execution_count": 47,
      "outputs": [
        {
          "output_type": "stream",
          "name": "stdout",
          "text": [
            "Area of Circle: 78.5\n",
            "Area of Rectangle: 24\n"
          ]
        }
      ]
    },
    {
      "cell_type": "code",
      "source": [
        "#3.  Implement a multi-level inheritance scenario where a class Vehicle has an attribute type. Derive a class Car and further derive a class ElectricCar that adds a battery attribute.\n",
        "\n",
        "\n",
        "class Vehicle:\n",
        "    def __init__(self, vehicle_type):\n",
        "        self.type = vehicle_type\n",
        "\n",
        "    def display_type(self):\n",
        "        print(f\"Vehicle Type: {self.type}\")\n",
        "\n",
        "class Car(Vehicle):\n",
        "    def __init__(self, vehicle_type, doors):\n",
        "        super().__init__(vehicle_type)\n",
        "        self.doors = doors\n",
        "\n",
        "    def display_car_details(self):\n",
        "        self.display_type()\n",
        "        print(f\"Number of Doors: {self.doors}\")\n",
        "\n",
        "class ElectricCar(Car):\n",
        "    def __init__(self, vehicle_type, doors, battery_capacity):\n",
        "        super().__init__(vehicle_type, doors)\n",
        "        self.battery_capacity = battery_capacity\n",
        "\n",
        "    def display_electric_car_details(self):\n",
        "        self.display_car_details()\n",
        "        print(f\"Battery Capacity: {self.battery_capacity} kWh\")\n",
        "\n",
        "\n",
        "\n",
        ""
      ],
      "metadata": {
        "id": "3TGqjk_2WKw6"
      },
      "execution_count": 44,
      "outputs": []
    },
    {
      "cell_type": "code",
      "source": [
        "my_electric_car = ElectricCar(\"Electric Vehicle\", 4, 75)\n",
        "my_electric_car.display_electric_car_details()\n",
        "\n",
        "\n"
      ],
      "metadata": {
        "colab": {
          "base_uri": "https://localhost:8080/"
        },
        "id": "KkTqoN0icOlc",
        "outputId": "21ba42a6-7952-4629-9d57-9d129881c4dd"
      },
      "execution_count": 46,
      "outputs": [
        {
          "output_type": "stream",
          "name": "stdout",
          "text": [
            "Vehicle Type: Electric Vehicle\n",
            "Number of Doors: 4\n",
            "Battery Capacity: 75 kWh\n"
          ]
        }
      ]
    },
    {
      "cell_type": "code",
      "source": [
        "#4. Demonstrate polymorphism by creating a base class Bird with a method fly(). Create two derived classes Sparrow and Penguin that override the fly() method.\n",
        "\n",
        "class Bird:\n",
        "    def fly(self):\n",
        "        \"\"\"\n",
        "        Base class method for flying.\n",
        "        \"\"\"\n",
        "        print(\"This bird can fly.\")\n",
        "\n",
        "class Sparrow(Bird):\n",
        "    def fly(self):\n",
        "        \"\"\"\n",
        "        Overrides the fly method for a Sparrow.\n",
        "        \"\"\"\n",
        "        print(\"The sparrow soars through the air with light wings.\")\n",
        "\n",
        "class Penguin(Bird):\n",
        "    def fly(self):\n",
        "        \"\"\"\n",
        "        Overrides the fly method for a Penguin, indicating it cannot fly.\n",
        "        \"\"\"\n",
        "        print(\"The penguin cannot fly, but it's an excellent swimmer!\")\n",
        "\n",
        "# Demonstrate polymorphism\n",
        "def make_bird_fly(bird_object):\n",
        "    \"\"\"\n",
        "    Takes a Bird object (or a derived class object) and calls its fly method.\n",
        "    \"\"\"\n",
        "    bird_object.fly()\n",
        "\n",
        "sparrow = Sparrow()\n",
        "penguin = Penguin()\n",
        "generic_bird = Bird()\n",
        "\n",
        "print(\"--- Demonstrating Polymorphism ---\")\n",
        "make_bird_fly(generic_bird)\n",
        "make_bird_fly(sparrow)\n",
        "make_bird_fly(penguin)"
      ],
      "metadata": {
        "colab": {
          "base_uri": "https://localhost:8080/"
        },
        "id": "yv89r_fSWVGw",
        "outputId": "6a8f7ef8-53b4-4ae3-999f-62d3947c6574"
      },
      "execution_count": 41,
      "outputs": [
        {
          "output_type": "stream",
          "name": "stdout",
          "text": [
            "--- Demonstrating Polymorphism ---\n",
            "This bird can fly.\n",
            "The sparrow soars through the air with light wings.\n",
            "The penguin cannot fly, but it's an excellent swimmer!\n"
          ]
        }
      ]
    },
    {
      "cell_type": "code",
      "source": [
        "#5. Write a program to demonstrate encapsulation by creating a class BankAccount with private attributes balance and methods to deposit, withdraw, and check balance.\n",
        "\n",
        "class BankAccount:\n",
        "    def __init__(self):\n",
        "        self.balance = 0\n",
        "        print(\"Welcome to the Machine\")\n",
        "\n",
        "    def deposit(self):\n",
        "        amount = float(input(\"Enter amount to be Deposited: \"))\n",
        "        self.balance += amount\n",
        "        print(\"\\nAmount Deposited:\", amount)\n",
        "\n",
        "    def withdraw(self):\n",
        "        amount = float(input(\"Enter amount to be Withdrawn: \"))\n",
        "        if self.balance >= amount:\n",
        "            self.balance -= amount\n",
        "            print(\"\\nYou Withdrew:\", amount)\n",
        "        else:\n",
        "            print(\"\\nInsufficient balance\")\n",
        "\n",
        "    def display(self):\n",
        "        print(\"\\nNet Available Balance =\", self.balance)\n",
        "\n",
        "if __name__ == \"__main__\":\n",
        "    s = BankAccount()  # Create an object of BankAccount\n",
        "\n",
        "    s.deposit()        # Deposit money\n",
        "    s.withdraw()       # Withdraw money\n",
        "    s.display()        # Display balance"
      ],
      "metadata": {
        "colab": {
          "base_uri": "https://localhost:8080/"
        },
        "id": "PDpAUBtgWp9_",
        "outputId": "61945c31-1dde-40ec-972c-5334a9796901"
      },
      "execution_count": 42,
      "outputs": [
        {
          "output_type": "stream",
          "name": "stdout",
          "text": [
            "Welcome to the Machine\n",
            "Enter amount to be Deposited: 830\n",
            "\n",
            "Amount Deposited: 830.0\n",
            "Enter amount to be Withdrawn: 5603\n",
            "\n",
            "Insufficient balance\n",
            "\n",
            "Net Available Balance = 830.0\n"
          ]
        }
      ]
    },
    {
      "cell_type": "code",
      "source": [
        "#6.  Demonstrate runtime polymorphism using a method play() in a base class Instrument. Derive classes Guitar and Piano that implement their own version of play().\n",
        "\n",
        "class Instrument:\n",
        "    def play(self):\n",
        "        \"\"\"\n",
        "        Base method for playing an instrument.\n",
        "        This method will be overridden by derived classes.\n",
        "        \"\"\"\n",
        "        print(\"Playing an instrument...\")\n",
        "\n",
        "class Guitar(Instrument):\n",
        "    def play(self):\n",
        "        \"\"\"\n",
        "        Overrides the play method for a Guitar.\n",
        "        \"\"\"\n",
        "        print(\"Strumming the guitar...\")\n",
        "\n",
        "class Piano(Instrument):\n",
        "    def play(self):\n",
        "        \"\"\"\n",
        "        Overrides the play method for a Piano.\n",
        "        \"\"\"\n",
        "        print(\"Playing the piano keys...\")\n",
        "\n"
      ],
      "metadata": {
        "id": "SqiUY9TGWrt6"
      },
      "execution_count": 52,
      "outputs": []
    },
    {
      "cell_type": "code",
      "source": [
        "\n",
        "if __name__ == \"__main__\":\n",
        "    # Create instances of the derived classes\n",
        "    guitar = Guitar()\n",
        "    piano = Piano()\n",
        "\n",
        "    # Create a list of Instrument objects (polymorphic behavior)\n",
        "    instruments = [guitar, piano]\n",
        "\n",
        "    # Iterate through the list and call the play() method\n",
        "    for instrument in instruments:\n",
        "        instrument.play()"
      ],
      "metadata": {
        "colab": {
          "base_uri": "https://localhost:8080/"
        },
        "id": "6ASz6aFih1N0",
        "outputId": "320456d9-d836-4d30-fdcf-a36e241bdb07"
      },
      "execution_count": 53,
      "outputs": [
        {
          "output_type": "stream",
          "name": "stdout",
          "text": [
            "Strumming the guitar...\n",
            "Playing the piano keys...\n"
          ]
        }
      ]
    },
    {
      "cell_type": "code",
      "source": [
        "#7.  Create a class MathOperations with a class method add_numbers() to add two numbers and a static method subtract_numbers() to subtract two numbers.\n",
        "\n",
        "class MathOperations:\n",
        "    @classmethod\n",
        "    def add_numbers(cls, num1, num2):\n",
        "        \"\"\"\n",
        "        Adds two numbers. This is a class method.\n",
        "        \"\"\"\n",
        "        return num1 + num2\n",
        "\n",
        "    @staticmethod\n",
        "    def subtract_numbers(num1, num2):\n",
        "        \"\"\"\n",
        "        Subtracts two numbers. This is a static method.\n",
        "        \"\"\"\n",
        "        return num1 - num2\n"
      ],
      "metadata": {
        "id": "jpZCgSo1WuU6"
      },
      "execution_count": 54,
      "outputs": []
    },
    {
      "cell_type": "code",
      "source": [
        "\n",
        "# Calling the class method\n",
        "sum_result = MathOperations.add_numbers(10, 5)\n",
        "print(f\"Sum: {sum_result}\")\n",
        "\n",
        "# Calling the static method\n",
        "difference_result = MathOperations.subtract_numbers(10, 5)\n",
        "print(f\"Difference: {difference_result}\")"
      ],
      "metadata": {
        "colab": {
          "base_uri": "https://localhost:8080/"
        },
        "id": "EfyM-WRziDD4",
        "outputId": "7ed747d9-5bb3-44d1-f616-827433d35574"
      },
      "execution_count": 55,
      "outputs": [
        {
          "output_type": "stream",
          "name": "stdout",
          "text": [
            "Sum: 15\n",
            "Difference: 5\n"
          ]
        }
      ]
    },
    {
      "cell_type": "code",
      "source": [
        "#8. Implement a class Person with a class method to count the total number of persons created.\n",
        "\n",
        "class Person:\n",
        "    # Class variable to keep track of the total number of Person objects created\n",
        "    _total_persons_created = 0\n",
        "\n",
        "    def __init__(self, name, age):\n",
        "        self.name = name\n",
        "        self.age = age\n",
        "        # Increment the class variable each time a new Person object is created\n",
        "        Person._total_persons_created += 1\n",
        "\n",
        "    @classmethod\n",
        "    def get_total_persons_created(cls):\n",
        "        \"\"\"\n",
        "        Class method to return the total number of Person objects created.\n",
        "        \"\"\"\n",
        "        return cls._total_persons_created\n"
      ],
      "metadata": {
        "id": "dOEQSOkcWv3l"
      },
      "execution_count": 56,
      "outputs": []
    },
    {
      "cell_type": "code",
      "source": [
        "\n",
        "person1 = Person(\"Alice\", 30)\n",
        "person2 = Person(\"Bob\", 25)\n",
        "person3 = Person(\"Charlie\", 35)\n",
        "\n",
        "print(f\"Total number of persons created: {Person.get_total_persons_created()}\")\n",
        "\n",
        "person4 = Person(\"Diana\", 28)\n",
        "print(f\"Total number of persons created after adding Diana: {Person.get_total_persons_created()}\")"
      ],
      "metadata": {
        "colab": {
          "base_uri": "https://localhost:8080/"
        },
        "id": "PS21dlBciNY1",
        "outputId": "293a9c97-4b95-450d-9b9b-a87c51fcec4b"
      },
      "execution_count": 57,
      "outputs": [
        {
          "output_type": "stream",
          "name": "stdout",
          "text": [
            "Total number of persons created: 3\n",
            "Total number of persons created after adding Diana: 4\n"
          ]
        }
      ]
    },
    {
      "cell_type": "code",
      "source": [
        "#9. Write a class Fraction with attributes numerator and denominator. Override the str method to display the fraction as \"numerator/denominator\".\n",
        "\n",
        "class Fraction:\n",
        "    def __init__(self, numerator, denominator):\n",
        "        \"\"\"\n",
        "        Initializes a Fraction object.\n",
        "\n",
        "        Args:\n",
        "            numerator (int): The numerator of the fraction.\n",
        "            denominator (int): The denominator of the fraction.\n",
        "                               Must not be zero.\n",
        "        \"\"\"\n",
        "        if not isinstance(numerator, int):\n",
        "            raise TypeError(\"Numerator must be an integer.\")\n",
        "        if not isinstance(denominator, int):\n",
        "            raise TypeError(\"Denominator must be an integer.\")\n",
        "        if denominator == 0:\n",
        "            raise ValueError(\"Denominator cannot be zero.\")\n",
        "\n",
        "        self.numerator = numerator\n",
        "        self.denominator = denominator\n",
        "\n",
        "    def __str__(self):\n",
        "        \"\"\"\n",
        "        Returns a string representation of the fraction in \"numerator/denominator\" format.\n",
        "        \"\"\"\n",
        "        return f\"{self.numerator}/{self.denominator}\"\n",
        "\n"
      ],
      "metadata": {
        "id": "_K3KZzbxWx0t"
      },
      "execution_count": 58,
      "outputs": []
    },
    {
      "cell_type": "code",
      "source": [
        "\n",
        "fraction1 = Fraction(3, 4)\n",
        "print(fraction1)\n",
        "\n",
        "fraction2 = Fraction(7, 2)\n",
        "print(fraction2)\n",
        "\n",
        "fraction3 = Fraction(-5, 8)\n",
        "print(fraction3)"
      ],
      "metadata": {
        "colab": {
          "base_uri": "https://localhost:8080/"
        },
        "id": "D-DnyEUlicPh",
        "outputId": "c0b8c893-dca0-4d3e-aecc-21e99fdff0e8"
      },
      "execution_count": 59,
      "outputs": [
        {
          "output_type": "stream",
          "name": "stdout",
          "text": [
            "3/4\n",
            "7/2\n",
            "-5/8\n"
          ]
        }
      ]
    },
    {
      "cell_type": "code",
      "source": [
        "#10. Demonstrate operator overloading by creating a class Vector and overriding the add method to add two vectors.\n",
        "\n",
        "class Vector:\n",
        "    def __init__(self, x, y):\n",
        "        \"\"\"\n",
        "        Initializes a Vector object with x and y components.\n",
        "        \"\"\"\n",
        "        self.x = x\n",
        "        self.y = y\n",
        "\n",
        "    def __add__(self, other):\n",
        "        \"\"\"\n",
        "        Overloads the addition (+) operator for Vector objects.\n",
        "        Returns a new Vector object representing the sum of two vectors.\n",
        "        \"\"\"\n",
        "        if isinstance(other, Vector):\n",
        "            return Vector(self.x + other.x, self.y + other.y)\n",
        "        else:\n",
        "            raise TypeError(\"Unsupported operand type for +: 'Vector' and '{}'\".format(type(other).__name__))\n",
        "\n",
        "    def __repr__(self):\n",
        "        \"\"\"\n",
        "        Provides a string representation of the Vector object for debugging.\n",
        "        \"\"\"\n",
        "        return f\"Vector({self.x}, {self.y})\"\n"
      ],
      "metadata": {
        "id": "4MVI9ML1WzIh"
      },
      "execution_count": 61,
      "outputs": []
    },
    {
      "cell_type": "code",
      "source": [
        "\n",
        "# Create instances of the Vector class\n",
        "vector1 = Vector(1, 2)\n",
        "vector2 = Vector(3, 4)\n",
        "\n",
        "# Add the vectors using the overloaded + operator\n",
        "vector_sum = vector1 + vector2\n",
        "\n",
        "# Print the resulting vector\n",
        "print(f\"Vector 1: {vector1}\")\n",
        "print(f\"Vector 2: {vector2}\")\n",
        "print(f\"Sum of vectors: {vector_sum}\")\n"
      ],
      "metadata": {
        "colab": {
          "base_uri": "https://localhost:8080/"
        },
        "id": "nFw3TsxlioKO",
        "outputId": "313e1528-f13f-4213-d1a4-a76c8d5e75a8"
      },
      "execution_count": 62,
      "outputs": [
        {
          "output_type": "stream",
          "name": "stdout",
          "text": [
            "Vector 1: Vector(1, 2)\n",
            "Vector 2: Vector(3, 4)\n",
            "Sum of vectors: Vector(4, 6)\n"
          ]
        }
      ]
    },
    {
      "cell_type": "code",
      "source": [
        "#11. Create a class Person with attributes name and age. Add a method greet() that prints \"Hello, my name is name} and I am {age} years old.\"\n",
        "class Person:\n",
        "    def __init__(self, name, age):\n",
        "        \"\"\"\n",
        "        Initializes a new Person object.\n",
        "\n",
        "        Args:\n",
        "            name (str): The name of the person.\n",
        "            age (int): The age of the person.\n",
        "        \"\"\"\n",
        "        self.name = name\n",
        "        self.age = age\n",
        "\n",
        "    def greet(self):\n",
        "        \"\"\"\n",
        "        Prints a greeting message including the person's name and age.\n",
        "        \"\"\"\n",
        "        print(f\"Hello, my name is {self.name} and I am {self.age} years old.\")\n",
        "\n"
      ],
      "metadata": {
        "id": "ocdeye57W0ku"
      },
      "execution_count": 63,
      "outputs": []
    },
    {
      "cell_type": "code",
      "source": [
        "\n",
        "# person1 = Person(\"Alice\", 30)\n",
        "# person1.greet()\n",
        "#\n",
        "# person2 = Person(\"Bob\", 25)\n",
        "# person2.greet()"
      ],
      "metadata": {
        "id": "hx6FDdVei0pH"
      },
      "execution_count": 64,
      "outputs": []
    },
    {
      "cell_type": "code",
      "source": [
        "#12. Implement a class Student with attributes name and grades. Create a method average_grade() to compute the average of the grades.\n",
        "class Student:\n",
        "    def __init__(self, name, grades):\n",
        "        \"\"\"\n",
        "        Initializes a Student object.\n",
        "\n",
        "        Args:\n",
        "            name (str): The name of the student.\n",
        "            grades (list): A list of numerical grades for the student.\n",
        "        \"\"\"\n",
        "        self.name = name\n",
        "        self.grades = grades\n",
        "\n",
        "    def average_grade(self):\n",
        "        \"\"\"\n",
        "        Computes the average of the student's grades.\n",
        "\n",
        "        Returns:\n",
        "            float: The average grade, or 0 if there are no grades.\n",
        "        \"\"\"\n",
        "        if not self.grades:\n",
        "            return 0.0  # Handle the case where there are no grades\n",
        "        return sum(self.grades) / len(self.grades)\n"
      ],
      "metadata": {
        "id": "O2Ii63dOW2i8"
      },
      "execution_count": 65,
      "outputs": []
    },
    {
      "cell_type": "code",
      "source": [
        "\n",
        "if __name__ == \"__main__\":\n",
        "    student1 = Student(\"Alice\", [90, 85, 92, 78])\n",
        "    student2 = Student(\"Bob\", [75, 80, 70])\n",
        "    student3 = Student(\"Charlie\", []) # Student with no grades\n",
        "\n",
        "    print(f\"{student1.name}'s average grade: {student1.average_grade():.2f}\")\n",
        "    print(f\"{student2.name}'s average grade: {student2.average_grade():.2f}\")\n",
        "    print(f\"{student3.name}'s average grade: {student3.average_grade():.2f}\")"
      ],
      "metadata": {
        "colab": {
          "base_uri": "https://localhost:8080/"
        },
        "id": "ieW66osOi9U0",
        "outputId": "a313df1a-db0c-4773-cc29-178df0b3d753"
      },
      "execution_count": 66,
      "outputs": [
        {
          "output_type": "stream",
          "name": "stdout",
          "text": [
            "Alice's average grade: 86.25\n",
            "Bob's average grade: 75.00\n",
            "Charlie's average grade: 0.00\n"
          ]
        }
      ]
    },
    {
      "cell_type": "code",
      "source": [
        "#13.  Create a class Rectangle with methods set_dimensions() to set the dimensions and area() to calculate the area.\n",
        "class Rectangle:\n",
        "    def __init__(self):\n",
        "        self.length = 0\n",
        "        self.width = 0\n",
        "\n",
        "    def set_dimensions(self, length, width):\n",
        "        \"\"\"\n",
        "        Sets the length and width of the rectangle.\n",
        "\n",
        "        Args:\n",
        "            length (float or int): The length of the rectangle.\n",
        "            width (float or int): The width of the rectangle.\n",
        "        \"\"\"\n",
        "        if length >= 0 and width >= 0:\n",
        "            self.length = length\n",
        "            self.width = width\n",
        "        else:\n",
        "            print(\"Dimensions cannot be negative.\")\n",
        "\n",
        "    def area(self):\n",
        "        \"\"\"\n",
        "        Calculates and returns the area of the rectangle.\n",
        "\n",
        "        Returns:\n",
        "            float or int: The area of the rectangle, or 0 if dimensions are not set or are invalid.\n",
        "        \"\"\"\n",
        "        return self.length * self.width\n"
      ],
      "metadata": {
        "id": "5-DNnKh1W4N8"
      },
      "execution_count": 17,
      "outputs": []
    },
    {
      "cell_type": "code",
      "source": [
        "#14. Create a class Employee with a method calculate_salary() that computes the salary based on hours worked and hourly rate. Create a derived class Manager that adds a bonus to the salary.\n",
        "class Employee:\n",
        "    def __init__(self, name, hourly_rate):\n",
        "        \"\"\"\n",
        "        Initializes an Employee object.\n",
        "\n",
        "        Args:\n",
        "            name (str): The name of the employee.\n",
        "            hourly_rate (float): The hourly rate of the employee.\n",
        "        \"\"\"\n",
        "        self.name = name\n",
        "        self.hourly_rate = hourly_rate\n",
        "\n",
        "    def calculate_salary(self, hours_worked):\n",
        "        \"\"\"\n",
        "        Calculates the salary based on hours worked and hourly rate.\n",
        "\n",
        "        Args:\n",
        "            hours_worked (float): The number of hours worked by the employee.\n",
        "\n",
        "        Returns:\n",
        "            float: The calculated salary.\n",
        "        \"\"\"\n",
        "        return hours_worked * self.hourly_rate\n",
        "\n",
        "class Manager(Employee):\n",
        "    def __init__(self, name, hourly_rate, bonus):\n",
        "        \"\"\"\n",
        "        Initializes a Manager object, inheriting from Employee.\n",
        "\n",
        "        Args:\n",
        "            name (str): The name of the manager.\n",
        "            hourly_rate (float): The hourly rate of the manager.\n",
        "            bonus (float): The bonus amount for the manager.\n",
        "        \"\"\"\n",
        "        super().__init__(name, hourly_rate)  # Call the parent class constructor\n",
        "        self.bonus = bonus\n",
        "\n",
        "    def calculate_salary(self, hours_worked):\n",
        "        \"\"\"\n",
        "        Calculates the manager's salary, including the bonus.\n",
        "\n",
        "        Args:\n",
        "            hours_worked (float): The number of hours worked by the manager.\n",
        "\n",
        "        Returns:\n",
        "            float: The calculated salary including the bonus.\n",
        "        \"\"\"\n",
        "        base_salary = super().calculate_salary(hours_worked)  # Get base salary from Employee class\n",
        "        return base_salary + self.bonus\n",
        "\n",
        "\n"
      ],
      "metadata": {
        "id": "JuCX5p48W5M7"
      },
      "execution_count": 67,
      "outputs": []
    },
    {
      "cell_type": "code",
      "source": [
        "# Example Usage:\n",
        "employee1 = Employee(\"Alice Smith\", 20.0)\n",
        "manager1 = Manager(\"Bob Johnson\", 25.0, 500.0)\n",
        "\n",
        "print(f\"{employee1.name}'s salary: ${employee1.calculate_salary(160):.2f}\")\n",
        "print(f\"{manager1.name}'s salary: ${manager1.calculate_salary(160):.2f}\")"
      ],
      "metadata": {
        "colab": {
          "base_uri": "https://localhost:8080/"
        },
        "id": "9m61V61OjNBV",
        "outputId": "ec509bf6-43d5-46e2-d0bb-ad29f5e78ec8"
      },
      "execution_count": 68,
      "outputs": [
        {
          "output_type": "stream",
          "name": "stdout",
          "text": [
            "Alice Smith's salary: $3200.00\n",
            "Bob Johnson's salary: $4500.00\n"
          ]
        }
      ]
    },
    {
      "cell_type": "code",
      "source": [
        "#15.  Create a class Product with attributes name, price, and quantity. Implement a method total_price() that calculates the total price of the product.\n",
        "\n",
        "class Product:\n",
        "    def __init__(self, name, price, quantity):\n",
        "        \"\"\"\n",
        "        Initializes a Product object with a name, price, and quantity.\n",
        "\n",
        "        Args:\n",
        "            name (str): The name of the product.\n",
        "            price (float): The price per unit of the product.\n",
        "            quantity (int): The number of units of the product.\n",
        "        \"\"\"\n",
        "        self.name = name\n",
        "        self.price = price\n",
        "        self.quantity = quantity\n",
        "\n",
        "    def total_price(self):\n",
        "        \"\"\"\n",
        "        Calculates the total price of the product.\n",
        "\n",
        "        Returns:\n",
        "            float: The total price (price * quantity).\n",
        "        \"\"\"\n",
        "        return self.price * self.quantity\n",
        "\n"
      ],
      "metadata": {
        "id": "N1mgUfe2W6nj"
      },
      "execution_count": 69,
      "outputs": []
    },
    {
      "cell_type": "code",
      "source": [
        "# Example usage:\n",
        "if __name__ == \"__main__\":\n",
        "    # Create a Product instance\n",
        "    item1 = Product(\"Laptop\", 1200.00, 1)\n",
        "    item2 = Product(\"Mouse\", 25.50, 3)\n",
        "\n",
        "    # Calculate and print the total price for each item\n",
        "    print(f\"Total price for {item1.name}: ${item1.total_price():.2f}\")\n",
        "    print(f\"Total price for {item2.name}: ${item2.total_price():.2f}\")"
      ],
      "metadata": {
        "colab": {
          "base_uri": "https://localhost:8080/"
        },
        "id": "vCh0EWVjjU8a",
        "outputId": "44816cc4-d331-4f40-ab71-8dc09eead204"
      },
      "execution_count": 70,
      "outputs": [
        {
          "output_type": "stream",
          "name": "stdout",
          "text": [
            "Total price for Laptop: $1200.00\n",
            "Total price for Mouse: $76.50\n"
          ]
        }
      ]
    },
    {
      "cell_type": "code",
      "source": [
        "#16. Create a class Animal with an abstract method sound(). Create two derived classes Cow and Sheep that implement the sound() method.\n",
        "\n",
        "from abc import ABC, abstractmethod\n",
        "\n",
        "class Animal(ABC):\n",
        "    \"\"\"\n",
        "    Abstract base class for animals with an abstract sound() method.\n",
        "    \"\"\"\n",
        "    @abstractmethod\n",
        "    def sound(self):\n",
        "        \"\"\"\n",
        "        Abstract method to be implemented by derived animal classes,\n",
        "        representing the sound the animal makes.\n",
        "        \"\"\"\n",
        "        pass\n",
        "\n",
        "class Cow(Animal):\n",
        "    \"\"\"\n",
        "    Derived class representing a Cow, implementing the sound() method.\n",
        "    \"\"\"\n",
        "    def sound(self):\n",
        "        \"\"\"\n",
        "        Implements the sound() method for a Cow.\n",
        "        \"\"\"\n",
        "        return \"Moo!\"\n",
        "\n",
        "class Sheep(Animal):\n",
        "    \"\"\"\n",
        "    Derived class representing a Sheep, implementing the sound() method.\n",
        "    \"\"\"\n",
        "    def sound(self):\n",
        "        \"\"\"\n",
        "        Implements the sound() method for a Sheep.\n",
        "        \"\"\"\n",
        "        return \"Baa!\"\n"
      ],
      "metadata": {
        "id": "z2i2ujG5W73e"
      },
      "execution_count": 71,
      "outputs": []
    },
    {
      "cell_type": "code",
      "source": [
        "\n",
        "# Example Usage:\n",
        "if __name__ == \"__main__\":\n",
        "    cow = Cow()\n",
        "    sheep = Sheep()\n",
        "\n",
        "    print(f\"The cow says: {cow.sound()}\")\n",
        "    print(f\"The sheep says: {sheep.sound()}\")"
      ],
      "metadata": {
        "colab": {
          "base_uri": "https://localhost:8080/"
        },
        "id": "y9GYBq1SjfEq",
        "outputId": "d0fda5ad-e201-4f9c-c292-2399f3db0068"
      },
      "execution_count": 72,
      "outputs": [
        {
          "output_type": "stream",
          "name": "stdout",
          "text": [
            "The cow says: Moo!\n",
            "The sheep says: Baa!\n"
          ]
        }
      ]
    },
    {
      "cell_type": "code",
      "source": [
        "#17. Create a class Book with attributes title, author, and year_published. Add a method get_book_info() that returns a formatted string with the book's details\n",
        "\n",
        "class Book:\n",
        "    def __init__(self, title, author, year_published):\n",
        "        \"\"\"\n",
        "        Initializes a new Book object.\n",
        "\n",
        "        Args:\n",
        "            title (str): The title of the book.\n",
        "            author (str): The author of the book.\n",
        "            year_published (int): The year the book was published.\n",
        "        \"\"\"\n",
        "        self.title = title\n",
        "        self.author = author\n",
        "        self.year_published = year_published\n",
        "\n",
        "    def get_book_info(self):\n",
        "        \"\"\"\n",
        "        Returns a formatted string with the book's details.\n",
        "\n",
        "        Returns:\n",
        "            str: A string containing the title, author, and publication year.\n",
        "        \"\"\"\n",
        "        return f\"Title: {self.title}\\nAuthor: {self.author}\\nYear Published: {self.year_published}\"\n"
      ],
      "metadata": {
        "id": "1loOQ2xNW9E7"
      },
      "execution_count": 73,
      "outputs": []
    },
    {
      "cell_type": "code",
      "source": [
        "\n",
        "# Example Usage:\n",
        "book1 = Book(\"The Hitchhiker's Guide to the Galaxy\", \"Douglas Adams\", 1979)\n",
        "print(book1.get_book_info())\n",
        "\n",
        "book2 = Book(\"Pride and Prejudice\", \"Jane Austen\", 1813)\n",
        "print(\"\\n\" + book2.get_book_info())"
      ],
      "metadata": {
        "colab": {
          "base_uri": "https://localhost:8080/"
        },
        "id": "PGqnwEwNj14w",
        "outputId": "e414f6e9-6b77-4620-ac60-5ef9b114732f"
      },
      "execution_count": 74,
      "outputs": [
        {
          "output_type": "stream",
          "name": "stdout",
          "text": [
            "Title: The Hitchhiker's Guide to the Galaxy\n",
            "Author: Douglas Adams\n",
            "Year Published: 1979\n",
            "\n",
            "Title: Pride and Prejudice\n",
            "Author: Jane Austen\n",
            "Year Published: 1813\n"
          ]
        }
      ]
    },
    {
      "cell_type": "code",
      "source": [
        "#18. Create a class House with attributes address and price. Create a derived class Mansion that adds an attribute number_of_rooms.\n",
        "\n",
        "\n",
        "class House:\n",
        "    def __init__(self, address, price):\n",
        "        self.address = address\n",
        "        self.price = price\n",
        "\n",
        "class Mansion(House):\n",
        "    def __init__(self, address, price, number_of_rooms):\n",
        "        super().__init__(address, price)  # Call the constructor of the base class (House)\n",
        "        self.number_of_rooms = number_of_rooms"
      ],
      "metadata": {
        "id": "wb7gbl0BW-ve"
      },
      "execution_count": 75,
      "outputs": []
    }
  ]
}